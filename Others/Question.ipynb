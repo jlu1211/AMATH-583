{
 "cells": [
  {
   "cell_type": "code",
   "execution_count": 1,
   "id": "c514b370",
   "metadata": {},
   "outputs": [],
   "source": [
    "import numpy as np"
   ]
  },
  {
   "cell_type": "code",
   "execution_count": 2,
   "id": "3ad7ee84",
   "metadata": {},
   "outputs": [
    {
     "name": "stdout",
     "output_type": "stream",
     "text": [
      "14 40 152 784\n"
     ]
    }
   ],
   "source": [
    "def t_n(n, t_3, t_2, t_1):\n",
    "    return (n+4)*t_1 - 4*n*t_2 + (4*n - 8)*t_3\n",
    "\n",
    "t0 = 2\n",
    "t1 = 3\n",
    "t2 = 6\n",
    "t3 = t_n(3, t0, t1, t2)\n",
    "t4 = t_n(4, t1, t2, t3)\n",
    "t5 = t_n(5, t2, t3, t4)\n",
    "t6 = t_n(6, t3, t4, t5)\n",
    "\n",
    "print(t3, t4, t5, t6)"
   ]
  }
 ],
 "metadata": {
  "kernelspec": {
   "display_name": "base",
   "language": "python",
   "name": "python3"
  },
  "language_info": {
   "codemirror_mode": {
    "name": "ipython",
    "version": 3
   },
   "file_extension": ".py",
   "mimetype": "text/x-python",
   "name": "python",
   "nbconvert_exporter": "python",
   "pygments_lexer": "ipython3",
   "version": "3.11.11"
  }
 },
 "nbformat": 4,
 "nbformat_minor": 5
}
