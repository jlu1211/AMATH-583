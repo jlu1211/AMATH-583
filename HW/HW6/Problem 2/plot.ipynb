{
 "cells": [
  {
   "cell_type": "code",
   "execution_count": 5,
   "metadata": {},
   "outputs": [
    {
     "name": "stdout",
     "output_type": "stream",
     "text": [
      "Generated plots:\n",
      "  time_vs_processes.png\n",
      "  efficiency_vs_processes.png\n",
      "  error_vs_n.png\n",
      "  error_loglog.png\n"
     ]
    }
   ],
   "source": [
    "#!/usr/bin/env python3\n",
    "import pandas as pd\n",
    "import matplotlib.pyplot as plt\n",
    "\n",
    "# Load data\n",
    "scaling_df = pd.read_csv('mpi_scaling.csv')\n",
    "error_df   = pd.read_csv('mpi_error.csv')\n",
    "\n",
    "# Part (b) – Strong scaling: Time vs Processes\n",
    "plt.figure()\n",
    "plt.plot(scaling_df['procs'], scaling_df['time_s'], 'o-')\n",
    "plt.xscale('log', base=2)\n",
    "# plt.yscale('log')\n",
    "plt.xlabel('MPI Processes (p)')\n",
    "plt.ylabel('Execution time $T_p$ (s)')\n",
    "plt.title('MPI Strong Scaling (n=1e8)')\n",
    "plt.grid(True, which='both', ls='--', alpha=0.5)\n",
    "plt.xticks(scaling_df['procs'], scaling_df['procs'])\n",
    "plt.tight_layout()\n",
    "plt.savefig('b_time_vs_processes.png')\n",
    "plt.close()\n",
    "\n",
    "# Part (b) – Strong scaling: Efficiency vs Processes\n",
    "T1 = scaling_df['time_s'].iloc[0]\n",
    "eff = T1 / (scaling_df['procs'] * scaling_df['time_s'])\n",
    "plt.figure()\n",
    "plt.plot(scaling_df['procs'], eff, 's-')\n",
    "plt.xscale('log', base=2)\n",
    "plt.xlabel('MPI Processes (p)')\n",
    "plt.ylabel(r'Efficiency $E_p = T_1/(p\\,T_p)$')\n",
    "plt.title('MPI Strong‐Scaling Efficiency')\n",
    "plt.ylim(0, 1.05)\n",
    "plt.grid(True, which='both', ls='--', alpha=0.5)\n",
    "plt.xticks(scaling_df['procs'], scaling_df['procs'])\n",
    "plt.tight_layout()\n",
    "plt.savefig('b_efficiency_vs_processes.png')\n",
    "plt.close()\n",
    "\n",
    "# Part (c) – Convergence/Error: Error vs n (linear-log)\n",
    "plt.figure()\n",
    "plt.plot(error_df['n'], error_df['error'], 'o-')\n",
    "plt.xscale('log', base=10)\n",
    "plt.yscale('log')\n",
    "plt.xlabel('Number of intervals (n)')\n",
    "plt.ylabel('Absolute error $|L_n - L_{\\mathrm{exact}}|$')\n",
    "plt.title('Error vs n (log-log)')\n",
    "plt.grid(True, which='both', ls='--', alpha=0.5)\n",
    "plt.xticks(error_df['n'], error_df['n'])\n",
    "plt.tight_layout()\n",
    "plt.savefig('c_error_vs_n.png')\n",
    "plt.close()\n",
    "\n",
    "# Also save pure log-log plot\n",
    "plt.figure()\n",
    "plt.loglog(error_df['n'], error_df['error'], 'o-')\n",
    "plt.xlabel('n')\n",
    "plt.ylabel('Error')\n",
    "plt.title('Error vs n (log-log)')\n",
    "plt.grid(True, which='both', ls='--', alpha=0.5)\n",
    "plt.tight_layout()\n",
    "plt.savefig('c_error_loglog.png')\n",
    "plt.close()\n",
    "\n",
    "print(\"Generated plots:\\n\",\n",
    "      \" time_vs_processes.png\\n\",\n",
    "      \" efficiency_vs_processes.png\\n\",\n",
    "      \" error_vs_n.png\\n\",\n",
    "      \" error_loglog.png\")\n"
   ]
  }
 ],
 "metadata": {
  "kernelspec": {
   "display_name": "base",
   "language": "python",
   "name": "python3"
  },
  "language_info": {
   "codemirror_mode": {
    "name": "ipython",
    "version": 3
   },
   "file_extension": ".py",
   "mimetype": "text/x-python",
   "name": "python",
   "nbconvert_exporter": "python",
   "pygments_lexer": "ipython3",
   "version": "3.11.11"
  }
 },
 "nbformat": 4,
 "nbformat_minor": 2
}
